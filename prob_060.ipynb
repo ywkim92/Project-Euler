{
 "cells": [
  {
   "cell_type": "code",
   "execution_count": 1,
   "metadata": {},
   "outputs": [],
   "source": [
    "from itertools import combinations\n",
    "from sympy import isprime"
   ]
  },
  {
   "cell_type": "code",
   "execution_count": 2,
   "metadata": {},
   "outputs": [],
   "source": [
    "def primes(n):\n",
    "    st = set(range(2, n+1))\n",
    "    for i in range(2, n+1):\n",
    "        if i in st:\n",
    "            st -= set(range(2*i, n+1,i))\n",
    "    return st"
   ]
  },
  {
   "cell_type": "code",
   "execution_count": 3,
   "metadata": {},
   "outputs": [],
   "source": [
    "p = primes(10000) # a set of primes less than 10,000"
   ]
  },
  {
   "cell_type": "code",
   "execution_count": 4,
   "metadata": {},
   "outputs": [],
   "source": [
    "dic = {}\n",
    "for i in p:\n",
    "    st = {i}\n",
    "    for j in p - {i}:\n",
    "        \n",
    "        if isprime(int(str(i)+str(j)))==True and isprime(int(str(j)+str(i)))==True:\n",
    "            st.add(j)\n",
    "    dic[i] = st"
   ]
  },
  {
   "cell_type": "code",
   "execution_count": 6,
   "metadata": {},
   "outputs": [
    {
     "data": {
      "text/plain": [
       "{13,\n",
       " 43,\n",
       " 73,\n",
       " 97,\n",
       " 433,\n",
       " 1021,\n",
       " 1453,\n",
       " 1471,\n",
       " 1777,\n",
       " 2017,\n",
       " 2251,\n",
       " 3037,\n",
       " 3049,\n",
       " 3067,\n",
       " 3583,\n",
       " 3943,\n",
       " 4003,\n",
       " 4663,\n",
       " 4783,\n",
       " 4957,\n",
       " 6199,\n",
       " 6379,\n",
       " 6451,\n",
       " 6577,\n",
       " 7573,\n",
       " 7699,\n",
       " 8269,\n",
       " 8761,\n",
       " 8971,\n",
       " 9433,\n",
       " 9787}"
      ]
     },
     "execution_count": 6,
     "metadata": {},
     "output_type": "execute_result"
    }
   ],
   "source": [
    "dic[9787] # a set of primes that become prime when concatenating with '9787'"
   ]
  },
  {
   "cell_type": "code",
   "execution_count": 7,
   "metadata": {},
   "outputs": [
    {
     "name": "stdout",
     "output_type": "stream",
     "text": [
      "3 11 8747 {3, 11, 8747, 2069, 701}\n",
      "3 11 2069 {3, 11, 8747, 2069, 2297, 8219}\n",
      "3 17 449 {449, 3, 6599, 6353, 17, 2069}\n",
      "3 17 2069 {449, 3, 17, 2069, 2297}\n",
      "3 37 67 {5923, 67, 3, 37, 2377}\n",
      "3 37 8713 {3, 1699, 37, 8713, 1237}\n",
      "3 37 5923 {5923, 67, 3, 37, 7963}\n",
      "3 37 2377 {67, 3, 37, 2377, 4159}\n",
      "3 37 7963 {5923, 3, 37, 4729, 7963}\n",
      "3 4729 7963 {3, 37, 4729, 7963, 9181}\n",
      "3 1237 8713 {3, 37, 8713, 6571, 1237}\n",
      "3 1237 6571 {3, 8713, 6571, 1237, 31}\n",
      "3 1699 8713 {3, 1699, 37, 8713, 6571}\n",
      "3 2069 2297 {3, 11, 17, 2069, 2297}\n",
      "3 2069 8747 {3, 11, 8747, 2069, 191}\n",
      "3 6571 8713 {3, 1699, 8713, 6571, 1237}\n",
      "7 19 97 {97, 7, 3727, 19, 4507}\n",
      "7 19 3727 {97, 1249, 7, 3727, 19, 5659}\n",
      "7 433 3613 {7, 9613, 433, 3613, 1471}\n",
      "7 853 8779 {7, 8779, 8017, 853, 2269}\n",
      "7 1249 6949 {1249, 6949, 7, 3727, 4441}\n",
      "7 1249 3727 {1249, 6949, 7, 3727, 19}\n",
      "7 2089 3181 {7, 2953, 2089, 3181, 4219}\n",
      "11 23 8681 {8681, 11, 1871, 23, 5849}\n",
      "11 23 1871 {743, 8681, 8171, 11, 1871, 23}\n",
      "11 239 1847 {1091, 11, 239, 1847, 1049}\n",
      "11 353 4967 {353, 4967, 11, 5849, 8219}\n",
      "11 4643 5153 {5153, 4643, 11, 4013, 5849}\n",
      "11 701 8747 {3, 11, 8747, 7541, 701}\n",
      "11 6791 8831 {353, 4547, 6791, 11, 8831}\n",
      "13 4951 9697 {9697, 2851, 6343, 13, 4951}\n",
      "13 5197 8389 {5701, 8389, 6733, 5197, 13}\n",
      "13 5197 6733 {5701, 8389, 6733, 5197, 13}\n",
      "13 5197 5701 {5701, 8389, 6733, 5197, 13}\n",
      "13 5701 8389 {5701, 8389, 13, 5197, 6733}\n",
      "13 5701 6733 {5701, 8389, 13, 5197, 6733}\n",
      "13 2383 8599 {8599, 6733, 13, 2383, 5431}\n",
      "13 2383 5431 {8599, 13, 2383, 5431, 61}\n",
      "13 6733 8389 {5701, 8389, 5197, 13, 6733}\n",
      "17 449 6353 {449, 3, 9923, 6353, 17}\n",
      "17 2741 4649 {4649, 3917, 17, 2741, 8537}\n",
      "17 2741 3917 {4649, 3917, 17, 6899, 2741}\n",
      "19 31 8641 {8641, 19, 991, 31, 6271}\n",
      "19 31 6271 {8641, 19, 1237, 31, 6271}\n",
      "19 6991 9697 {9697, 13, 6991, 19, 9403}\n"
     ]
    }
   ],
   "source": [
    "test = []\n",
    "for a in primes(20):\n",
    "    \n",
    "    for b in p - primes(a):\n",
    "        for c in p - primes(b):\n",
    "            st  = dic[a] & dic[b] & dic[c]\n",
    "            if len(st)>4 and {a,b,c}.issubset(st):\n",
    "                test.append(list(st))\n",
    "                print(a,b,c, dic[a] & dic[b] & dic[c])"
   ]
  },
  {
   "cell_type": "code",
   "execution_count": 9,
   "metadata": {},
   "outputs": [
    {
     "name": "stdout",
     "output_type": "stream",
     "text": [
      "[5701, 8389, 6733, 5197, 13]\n",
      "[5701, 8389, 6733, 5197, 13]\n",
      "[5701, 8389, 6733, 5197, 13]\n",
      "[5701, 8389, 13, 5197, 6733]\n",
      "[5701, 8389, 13, 5197, 6733]\n",
      "[5701, 8389, 5197, 13, 6733]\n"
     ]
    }
   ],
   "source": [
    "for i in test:\n",
    "    \n",
    "    if len(dic[i[0]] & dic[i[1]] & dic[i[2]] & dic[i[3]] & dic[i[4]])>4:\n",
    "        print(i)"
   ]
  },
  {
   "cell_type": "code",
   "execution_count": 10,
   "metadata": {},
   "outputs": [
    {
     "data": {
      "text/plain": [
       "26033"
      ]
     },
     "execution_count": 10,
     "metadata": {},
     "output_type": "execute_result"
    }
   ],
   "source": [
    "sum([5701, 8389, 6733, 5197, 13])"
   ]
  },
  {
   "cell_type": "code",
   "execution_count": null,
   "metadata": {},
   "outputs": [],
   "source": []
  }
 ],
 "metadata": {
  "kernelspec": {
   "display_name": "Python 3",
   "language": "python",
   "name": "python3"
  },
  "language_info": {
   "codemirror_mode": {
    "name": "ipython",
    "version": 3
   },
   "file_extension": ".py",
   "mimetype": "text/x-python",
   "name": "python",
   "nbconvert_exporter": "python",
   "pygments_lexer": "ipython3",
   "version": "3.7.4"
  }
 },
 "nbformat": 4,
 "nbformat_minor": 4
}
