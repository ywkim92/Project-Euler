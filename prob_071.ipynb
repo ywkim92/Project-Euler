{
 "cells": [
  {
   "cell_type": "code",
   "execution_count": 1,
   "metadata": {},
   "outputs": [],
   "source": [
    "# Testing whether the input number is prime or not\n",
    "def primeq(n):\n",
    "    if n<2:\n",
    "        return False\n",
    "    elif n==2 or n==3 or n==5 or n==7:\n",
    "        return True\n",
    "    elif n%2 ==0:\n",
    "        return False\n",
    "    else:\n",
    "        for i in range(3, n//2, 2):\n",
    "            if n%i == 0:\n",
    "                return False\n",
    "        return True"
   ]
  },
  {
   "cell_type": "code",
   "execution_count": 2,
   "metadata": {},
   "outputs": [],
   "source": [
    "# returning a list of the prime factors without powers\n",
    "def factors(n):\n",
    "    if primeq(n)==True:\n",
    "        return [n]\n",
    "    elif n%2 == 1:\n",
    "        ans = []\n",
    "        idx = 3\n",
    "        while n!=1:\n",
    "            if primeq(idx)==True and n%idx == 0:\n",
    "                while n%idx == 0:\n",
    "                    n //= idx\n",
    "                ans.append(idx)\n",
    "            idx +=2\n",
    "        return ans\n",
    "    else:\n",
    "        ans = [2]\n",
    "        n = n//2\n",
    "        idx = 3\n",
    "        while n!=1:\n",
    "            if primeq(idx)==True and n%idx == 0:\n",
    "                while n%idx == 0:\n",
    "                    n //= idx\n",
    "                ans.append(idx)\n",
    "            idx +=2\n",
    "        return ans"
   ]
  },
  {
   "cell_type": "code",
   "execution_count": 3,
   "metadata": {},
   "outputs": [],
   "source": [
    "# a list of all fractions less than 3/7\n",
    "result = list( (3*d//7, d) for d in range(2, 1000001))\n",
    "result = sorted(result, key = lambda x: x[0]/x[1])"
   ]
  },
  {
   "cell_type": "code",
   "execution_count": 4,
   "metadata": {},
   "outputs": [
    {
     "name": "stdout",
     "output_type": "stream",
     "text": [
      "428570\n"
     ]
    }
   ],
   "source": [
    "idx = result.index((3,7)) - 1\n",
    "\n",
    "while 1:\n",
    "    num = set(factors(result[idx][0]))\n",
    "    de = set(factors(result[idx][1]))\n",
    "    if len(num&de) ==0:\n",
    "        print(result[idx][0])\n",
    "        break\n",
    "    idx -=1"
   ]
  }
 ],
 "metadata": {
  "kernelspec": {
   "display_name": "Python 3",
   "language": "python",
   "name": "python3"
  },
  "language_info": {
   "codemirror_mode": {
    "name": "ipython",
    "version": 3
   },
   "file_extension": ".py",
   "mimetype": "text/x-python",
   "name": "python",
   "nbconvert_exporter": "python",
   "pygments_lexer": "ipython3",
   "version": "3.7.4"
  }
 },
 "nbformat": 4,
 "nbformat_minor": 4
}
