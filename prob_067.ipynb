{
 "cells": [
  {
   "cell_type": "code",
   "execution_count": 1,
   "metadata": {},
   "outputs": [],
   "source": [
    "p67=[]\n",
    "with open('p067.txt','r') as file:\n",
    "    # 'p067.txt' file is the array of numbers in the form of a triangle.\n",
    "    for line in file:\n",
    "        line=line.rstrip('\\n').split(' ')\n",
    "        line=list(int(a) for a in line)\n",
    "        p67.append(line)"
   ]
  },
  {
   "cell_type": "code",
   "execution_count": 2,
   "metadata": {},
   "outputs": [],
   "source": [
    "for row in range(1, len(p67)):\n",
    "    for col in range(row+1):\n",
    "        if col==0:\n",
    "            p67[row][col] += p67[row-1][col]\n",
    "        elif col==row:\n",
    "            p67[row][col] += p67[row-1][col-1]\n",
    "        else:\n",
    "            p67[row][col] += max(p67[row-1][col-1:col+1])"
   ]
  },
  {
   "cell_type": "code",
   "execution_count": 3,
   "metadata": {},
   "outputs": [
    {
     "data": {
      "text/plain": [
       "7273"
      ]
     },
     "execution_count": 3,
     "metadata": {},
     "output_type": "execute_result"
    }
   ],
   "source": [
    "max(p67[-1])"
   ]
  }
 ],
 "metadata": {
  "kernelspec": {
   "display_name": "Python 3",
   "language": "python",
   "name": "python3"
  },
  "language_info": {
   "codemirror_mode": {
    "name": "ipython",
    "version": 3
   },
   "file_extension": ".py",
   "mimetype": "text/x-python",
   "name": "python",
   "nbconvert_exporter": "python",
   "pygments_lexer": "ipython3",
   "version": "3.7.4"
  }
 },
 "nbformat": 4,
 "nbformat_minor": 4
}
