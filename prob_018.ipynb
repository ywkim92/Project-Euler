{
 "cells": [
  {
   "cell_type": "code",
   "execution_count": 1,
   "metadata": {},
   "outputs": [],
   "source": [
    "p18=[]\n",
    "with open('p018.txt','r') as file:\n",
    "    # 'p018.txt' file is the array of numbers in the form of a triangle.\n",
    "    for line in file:\n",
    "        line=line.rstrip('\\n').split(' ')\n",
    "        line=list(int(a) for a in line)\n",
    "        p18.append(line)"
   ]
  },
  {
   "cell_type": "code",
   "execution_count": 2,
   "metadata": {},
   "outputs": [
    {
     "data": {
      "text/plain": [
       "[[75],\n",
       " [95, 64],\n",
       " [17, 47, 82],\n",
       " [18, 35, 87, 10],\n",
       " [20, 4, 82, 47, 65],\n",
       " [19, 1, 23, 75, 3, 34],\n",
       " [88, 2, 77, 73, 7, 63, 67],\n",
       " [99, 65, 4, 28, 6, 16, 70, 92],\n",
       " [41, 41, 26, 56, 83, 40, 80, 70, 33],\n",
       " [41, 48, 72, 33, 47, 32, 37, 16, 94, 29],\n",
       " [53, 71, 44, 65, 25, 43, 91, 52, 97, 51, 14],\n",
       " [70, 11, 33, 28, 77, 73, 17, 78, 39, 68, 17, 57],\n",
       " [91, 71, 52, 38, 17, 14, 91, 43, 58, 50, 27, 29, 48],\n",
       " [63, 66, 4, 68, 89, 53, 67, 30, 73, 16, 69, 87, 40, 31],\n",
       " [4, 62, 98, 27, 23, 9, 70, 98, 73, 93, 38, 53, 60, 4, 23]]"
      ]
     },
     "execution_count": 2,
     "metadata": {},
     "output_type": "execute_result"
    }
   ],
   "source": [
    "p18"
   ]
  },
  {
   "cell_type": "code",
   "execution_count": 3,
   "metadata": {},
   "outputs": [],
   "source": [
    "for row in range(1, len(p18)):\n",
    "    for col in range(row+1):\n",
    "        if col==0:\n",
    "            p18[row][col] += p18[row-1][col]\n",
    "        elif col==row:\n",
    "            p18[row][col] += p18[row-1][col-1]\n",
    "        else:\n",
    "            p18[row][col] += max(p18[row-1][col-1:col+1])"
   ]
  },
  {
   "cell_type": "code",
   "execution_count": 4,
   "metadata": {},
   "outputs": [
    {
     "data": {
      "text/plain": [
       "1074"
      ]
     },
     "execution_count": 4,
     "metadata": {},
     "output_type": "execute_result"
    }
   ],
   "source": [
    "max(p18[-1])"
   ]
  }
 ],
 "metadata": {
  "kernelspec": {
   "display_name": "Python 3",
   "language": "python",
   "name": "python3"
  },
  "language_info": {
   "codemirror_mode": {
    "name": "ipython",
    "version": 3
   },
   "file_extension": ".py",
   "mimetype": "text/x-python",
   "name": "python",
   "nbconvert_exporter": "python",
   "pygments_lexer": "ipython3",
   "version": "3.7.4"
  }
 },
 "nbformat": 4,
 "nbformat_minor": 4
}
